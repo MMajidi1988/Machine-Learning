{
  "nbformat": 4,
  "nbformat_minor": 0,
  "metadata": {
    "colab": {
      "provenance": [],
      "authorship_tag": "ABX9TyN7zYbVDbek7bo9jJ/O6v/0",
      "include_colab_link": true
    },
    "kernelspec": {
      "name": "python3",
      "display_name": "Python 3"
    },
    "language_info": {
      "name": "python"
    }
  },
  "cells": [
    {
      "cell_type": "markdown",
      "metadata": {
        "id": "view-in-github",
        "colab_type": "text"
      },
      "source": [
        "<a href=\"https://colab.research.google.com/github/MMajidi1988/Machine-Learning/blob/main/data_preprocessing_template.ipynb\" target=\"_parent\"><img src=\"https://colab.research.google.com/assets/colab-badge.svg\" alt=\"Open In Colab\"/></a>"
      ]
    },
    {
      "cell_type": "code",
      "execution_count": 3,
      "metadata": {
        "id": "xlVOX5WrhQz4"
      },
      "outputs": [],
      "source": [
        "# Data Processing \n",
        "\n",
        "# Importing the libraries\n",
        "import numpy as np \n",
        "import matplotlib.pyplot as plt \n",
        "import pandas as pd \n",
        "\n",
        "# Importing the dataset\n",
        "dataset = pd.read_csv('Data.csv')\n",
        "X=dataset.iloc[:,:-1].values\n",
        "y=dataset.iloc[:,3].values"
      ]
    },
    {
      "cell_type": "code",
      "source": [
        "# Splitting the dataset into the traing set and Test set\n",
        "from sklearn.model_selection import train_test_split \n",
        "X_train, X_test, y_train, y_test = train_test_split(X,y, test_size=0.2, random_state=0)\n"
      ],
      "metadata": {
        "id": "noWsjTOEtURq"
      },
      "execution_count": 39,
      "outputs": []
    },
    {
      "cell_type": "code",
      "source": [
        "# Feature Scaling\n",
        "\"\"\"from sklearn.preprocessing import StandardScaler\n",
        "sc_X= StandardScaler()\n",
        "X_train= sc_X.fit_transform(X_train)\n",
        "X_test= sc_X.transform(X_test)\"\"\""
      ],
      "metadata": {
        "id": "tm5I0QHjKkNS"
      },
      "execution_count": 37,
      "outputs": []
    },
    {
      "cell_type": "code",
      "source": [],
      "metadata": {
        "id": "gyPT8tcRTRDF"
      },
      "execution_count": null,
      "outputs": []
    }
  ]
}